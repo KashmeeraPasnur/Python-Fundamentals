{
 "cells": [
  {
   "cell_type": "markdown",
   "id": "28b7abe3",
   "metadata": {},
   "source": [
    "# Conditional Statements\n",
    "## 03/03/2022"
   ]
  },
  {
   "cell_type": "markdown",
   "id": "e643e092",
   "metadata": {},
   "source": [
    "# if else"
   ]
  },
  {
   "cell_type": "code",
   "execution_count": 5,
   "id": "d4983c22",
   "metadata": {},
   "outputs": [
    {
     "name": "stdout",
     "output_type": "stream",
     "text": [
      "Yep\n"
     ]
    }
   ],
   "source": [
    "if 1<2:\n",
    "    print('Yep')"
   ]
  },
  {
   "cell_type": "code",
   "execution_count": 6,
   "id": "6b5e4831",
   "metadata": {},
   "outputs": [
    {
     "name": "stdout",
     "output_type": "stream",
     "text": [
      "Last\n"
     ]
    }
   ],
   "source": [
    "if 1==2:\n",
    "    print('First')\n",
    "else:\n",
    "    print('Last')"
   ]
  },
  {
   "cell_type": "code",
   "execution_count": 1,
   "id": "709ef173",
   "metadata": {},
   "outputs": [
    {
     "name": "stdout",
     "output_type": "stream",
     "text": [
      "Enter a number : 2\n",
      "Even Number  \n"
     ]
    }
   ],
   "source": [
    "# Check if the number is Even or Odd\n",
    "\n",
    "n=int(input(\"Enter a number : \"))\n",
    "if n%2==0:\n",
    "     print(\"Even Number  \")\n",
    "else:\n",
    "    print(\"Odd Number  \")\n",
    "    "
   ]
  },
  {
   "cell_type": "markdown",
   "id": "7d1e035d",
   "metadata": {},
   "source": [
    "Program to Compare two Numbers"
   ]
  },
  {
   "cell_type": "code",
   "execution_count": 4,
   "id": "ed6bf73e",
   "metadata": {},
   "outputs": [
    {
     "name": "stdout",
     "output_type": "stream",
     "text": [
      " Enter First Number55\n",
      " Enter Second Number77\n",
      "b is greater  than a\n",
      "End of the program\n"
     ]
    }
   ],
   "source": [
    "a = int(input(\" Enter First Number\"))\n",
    "b = int(input(\" Enter Second Number\"))\n",
    "if a>b:\n",
    "    print(\"a is greater  than b\")\n",
    "else:\n",
    "     print(\"b is greater  than a\")\n",
    "print(\"End of the program\")"
   ]
  },
  {
   "cell_type": "markdown",
   "id": "5236b8b0",
   "metadata": {},
   "source": [
    "# if elif"
   ]
  },
  {
   "cell_type": "code",
   "execution_count": 2,
   "id": "1dc70b11",
   "metadata": {},
   "outputs": [
    {
     "name": "stdout",
     "output_type": "stream",
     "text": [
      " Enter First Number55\n",
      " Enter Second Number55\n",
      "Both are equal\n",
      "End of the program\n"
     ]
    }
   ],
   "source": [
    "a = int(input(\" Enter First Number\"))\n",
    "b = int(input(\" Enter Second Number\"))\n",
    "if a>b:\n",
    "    print(\"a is greater  than b\")\n",
    "elif b >a :\n",
    "     print(\"b is greater  than a\")\n",
    "else:\n",
    "    print(\"Both are equal\")\n",
    "print(\"End of the program\")"
   ]
  },
  {
   "cell_type": "code",
   "execution_count": 7,
   "id": "afcdf88b",
   "metadata": {},
   "outputs": [
    {
     "name": "stdout",
     "output_type": "stream",
     "text": [
      "Middle\n"
     ]
    }
   ],
   "source": [
    "if 1==2:\n",
    "    print('First')\n",
    "elif 3==3:\n",
    "    print('Middle')\n",
    "else:\n",
    "    print('Last')"
   ]
  },
  {
   "cell_type": "code",
   "execution_count": 8,
   "id": "c0dee898",
   "metadata": {},
   "outputs": [
    {
     "name": "stdout",
     "output_type": "stream",
     "text": [
      "Second\n"
     ]
    }
   ],
   "source": [
    "if 1==2:\n",
    "    print('First')\n",
    "elif 4==4:\n",
    "    print('Second')\n",
    "elif 3==3:\n",
    "    print('Middle')\n",
    "else:\n",
    "    print('Last')"
   ]
  },
  {
   "cell_type": "code",
   "execution_count": null,
   "id": "b58ac6c0",
   "metadata": {},
   "outputs": [],
   "source": []
  }
 ],
 "metadata": {
  "kernelspec": {
   "display_name": "Python 3 (ipykernel)",
   "language": "python",
   "name": "python3"
  },
  "language_info": {
   "codemirror_mode": {
    "name": "ipython",
    "version": 3
   },
   "file_extension": ".py",
   "mimetype": "text/x-python",
   "name": "python",
   "nbconvert_exporter": "python",
   "pygments_lexer": "ipython3",
   "version": "3.8.5"
  }
 },
 "nbformat": 4,
 "nbformat_minor": 5
}
